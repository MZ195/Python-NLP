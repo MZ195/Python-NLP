{
 "cells": [
  {
   "cell_type": "code",
   "execution_count": 1,
   "metadata": {},
   "outputs": [],
   "source": [
    "import re\n",
    "from collections import Counter"
   ]
  },
  {
   "cell_type": "code",
   "execution_count": 2,
   "metadata": {},
   "outputs": [],
   "source": [
    "# function to tokenise words\n",
    "def words(document):\n",
    "    \"Convert text to lower case and tokenise the document\"\n",
    "    return re.findall(r'\\w+', document.lower())"
   ]
  },
  {
   "cell_type": "code",
   "execution_count": 3,
   "metadata": {},
   "outputs": [],
   "source": [
    "# create a frequency table of all the words of the document\n",
    "all_words = Counter(words(open('./data/book.txt').read()))"
   ]
  },
  {
   "cell_type": "code",
   "execution_count": 4,
   "metadata": {},
   "outputs": [
    {
     "data": {
      "text/plain": [
       "64"
      ]
     },
     "execution_count": 4,
     "metadata": {},
     "output_type": "execute_result"
    }
   ],
   "source": [
    "# check frequency of a random word, say, 'chair'\n",
    "all_words['chair']"
   ]
  },
  {
   "cell_type": "code",
   "execution_count": 5,
   "metadata": {},
   "outputs": [
    {
     "data": {
      "text/plain": [
       "[('the', 34902),\n",
       " ('of', 19114),\n",
       " ('and', 12735),\n",
       " ('to', 10198),\n",
       " ('in', 10044),\n",
       " ('a', 8599),\n",
       " ('it', 4125),\n",
       " ('was', 4012),\n",
       " ('is', 3912),\n",
       " ('that', 3873)]"
      ]
     },
     "execution_count": 5,
     "metadata": {},
     "output_type": "execute_result"
    }
   ],
   "source": [
    "# look at top 10 frequent words\n",
    "all_words.most_common(10)"
   ]
  },
  {
   "cell_type": "code",
   "execution_count": 6,
   "metadata": {},
   "outputs": [],
   "source": [
    "def edits_one(word):\n",
    "    \"Create all edits that are one edit away from `word`.\"\n",
    "    alphabets    = 'abcdefghijklmnopqrstuvwxyz'\n",
    "    splits     = [(word[:i], word[i:])                   for i in range(len(word) + 1)]\n",
    "    deletes    = [left + right[1:]                       for left, right in splits if right]\n",
    "    inserts    = [left + c + right                       for left, right in splits for c in alphabets]\n",
    "    replaces   = [left + c + right[1:]                   for left, right in splits if right for c in alphabets]\n",
    "    transposes = [left + right[1] + right[0] + right[2:] for left, right in splits if len(right)>1]\n",
    "    return set(deletes + inserts + replaces + transposes)"
   ]
  },
  {
   "cell_type": "code",
   "execution_count": 7,
   "metadata": {},
   "outputs": [],
   "source": [
    "word = \"money\"\n",
    "alphabets    = 'abcdefghijklmnopqrstuvwxyz'\n",
    "splits     = [(word[:i], word[i:])                   for i in range(len(word) + 1)]\n",
    "deletes    = [left + right[1:]                       for left, right in splits if right]\n",
    "inserts    = [left + c + right                       for left, right in splits for c in alphabets]\n",
    "replaces   = [left + c + right[1:]                   for left, right in splits if right for c in alphabets]\n",
    "transposes = [left + right[1] + right[0] + right[2:] for left, right in splits if len(right)>1]\n"
   ]
  },
  {
   "cell_type": "code",
   "execution_count": 8,
   "metadata": {},
   "outputs": [
    {
     "data": {
      "text/plain": [
       "['omney', 'mnoey', 'moeny', 'monye']"
      ]
     },
     "execution_count": 8,
     "metadata": {},
     "output_type": "execute_result"
    }
   ],
   "source": [
    "transposes"
   ]
  },
  {
   "cell_type": "code",
   "execution_count": 9,
   "metadata": {},
   "outputs": [
    {
     "data": {
      "text/plain": [
       "{'mnoey', 'moeny', 'monye', 'omney'}"
      ]
     },
     "execution_count": 9,
     "metadata": {},
     "output_type": "execute_result"
    }
   ],
   "source": [
    "set(transposes)"
   ]
  },
  {
   "cell_type": "code",
   "execution_count": 10,
   "metadata": {},
   "outputs": [],
   "source": [
    "def edits_two(word):\n",
    "    \"Create all edits that are two edits away from `word`.\"\n",
    "    return (e2 for e1 in edits_one(word) for e2 in edits_one(e1))"
   ]
  },
  {
   "cell_type": "code",
   "execution_count": 11,
   "metadata": {},
   "outputs": [],
   "source": [
    "def known(words):\n",
    "    \"The subset of `words` that appear in the `all_words`.\"\n",
    "    return set(word for word in words if word in all_words)"
   ]
  },
  {
   "cell_type": "code",
   "execution_count": 12,
   "metadata": {},
   "outputs": [],
   "source": [
    "def possible_corrections(word):\n",
    "    \"Generate possible spelling corrections for word.\"\n",
    "    return (known([word]) or known(edits_one(word)) or known(edits_two(word)) or [word])"
   ]
  },
  {
   "cell_type": "code",
   "execution_count": 13,
   "metadata": {},
   "outputs": [],
   "source": [
    "def prob(word, N=sum(all_words.values())): \n",
    "    \"Probability of `word`: Number of appearances of 'word' / total number of tokens\"\n",
    "    return all_words[word] / N"
   ]
  },
  {
   "cell_type": "code",
   "execution_count": 14,
   "metadata": {},
   "outputs": [
    {
     "name": "stdout",
     "output_type": "stream",
     "text": [
      "336\n",
      "1\n",
      "{'mbonney', 'monneyf', 'montney', 'moenney', 'monnei', 'monneyk', 'monneay', 'monoey', 'monneny', 'monfney', 'movney', 'moyney', 'ymonney', 'monniey', 'monneuy', 'monnem', 'monnery', 'mrnney', 'monndey', 'mgonney', 'bmonney', 'monne', 'monnay', 'mononey', 'moonney', 'monneyo', 'moqney', 'mohney', 'monnzy', 'smonney', 'monneqy', 'monnqey', 'monnezy', 'mvnney', 'imonney', 'mxonney', 'donney', 'monuney', 'monhey', 'monneyy', 'mooney', 'konney', 'mondey', 'mionney', 'monmney', 'monneyp', 'monnpy', 'oonney', 'monnef', 'zonney', 'monnexy', 'money', 'monyey', 'monnea', 'monnecy', 'monxey', 'monnby', 'monnegy', 'monnej', 'mofnney', 'moeney', 'moiney', 'monnuy', 'mtnney', 'mpnney', 'monmey', 'rmonney', 'maonney', 'lonney', 'mosnney', 'umonney', 'monbney', 'monzney', 'mtonney', 'monnzey', 'monnez', 'mdnney', 'monnvey', 'gonney', 'muonney', 'mohnney', 'monnemy', 'mondney', 'msnney', 'monnsy', 'monwney', 'yonney', 'mzonney', 'monnye', 'nonney', 'momney', 'monned', 'monnkey', 'monpney', 'monnhy', 'moaney', 'mcnney', 'mocney', 'monnjey', 'mongey', 'monnev', 'tonney', 'monneyt', 'monneyv', 'qmonney', 'monley', 'onney', 'moknney', 'monneys', 'monwey', 'monneq', 'moanney', 'mnney', 'monjney', 'monqney', 'monnry', 'monnfey', 'moniey', 'monncy', 'monneya', 'monneyr', 'moinney', 'monneh', 'jonney', 'monnely', 'monneyw', 'monnney', 'mmonney', 'monneyu', 'monnpey', 'gmonney', 'monaey', 'mhnney', 'monnmey', 'monniy', 'monneyz', 'monnewy', 'monnevy', 'mfnney', 'mornney', 'mknney', 'mouney', 'meonney', 'monnuey', 'monnedy', 'monsey', 'monneyj', 'mponney', 'mxnney', 'monnty', 'mownney', 'movnney', 'minney', 'monneyh', 'fonney', 'moxnney', 'mowney', 'mojney', 'monner', 'mofney', 'wmonney', 'mgnney', 'mnnney', 'mjonney', 'monneyl', 'monnly', 'mobnney', 'monnesy', 'mbnney', 'monnepy', 'modnney', 'mwonney', 'mdonney', 'ionney', 'bonney', 'mosney', 'monqey', 'monnes', 'tmonney', 'moqnney', 'monaney', 'monnel', 'monnbey', 'monnex', 'hmonney', 'mozney', 'monnfy', 'omonney', 'monneoy', 'kmonney', 'monnen', 'moneey', 'molnney', 'mogney', 'monsney', 'wonney', 'monuey', 'mqnney', 'mopney', 'monneyb', 'monnwy', 'omnney', 'fmonney', 'monrney', 'monnxy', 'ponney', 'mongney', 'mhonney', 'mqonney', 'jmonney', 'emonney', 'modney', 'monnhey', 'mkonney', 'mynney', 'myonney', 'nmonney', 'mconney', 'honney', 'mznney', 'monneyx', 'moznney', 'moynney', 'mlnney', 'monnqy', 'monneey', 'motnney', 'monkney', 'monnejy', 'monnmy', 'vmonney', 'ronney', 'monkey', 'monnehy', 'mnoney', 'monneu', 'xmonney', 'vonney', 'monneby', 'moncey', 'monnyy', 'monnoy', 'uonney', 'monneym', 'monnoey', 'monnny', 'monvey', 'mnonney', 'monneyd', 'munney', 'monnek', 'monngey', 'mognney', 'monny', 'menney', 'moncney', 'cmonney', 'monnxey', 'monlney', 'monneo', 'monbey', 'moxney', 'monrey', 'mopnney', 'mronney', 'monndy', 'dmonney', 'monneyi', 'monnet', 'mwnney', 'monney', 'lmonney', 'amonney', 'pmonney', 'zmonney', 'moneney', 'monnec', 'monnley', 'monneyn', 'mvonney', 'monnaey', 'monneb', 'monnrey', 'momnney', 'monnew', 'molney', 'monneye', 'eonney', 'monhney', 'moniney', 'monnsey', 'monntey', 'manney', 'monjey', 'monneyc', 'monnwey', 'monnety', 'conney', 'mounney', 'monneyq', 'monneg', 'montey', 'monneky', 'monzey', 'monnjy', 'monxney', 'mfonney', 'monnep', 'xonney', 'monngy', 'msonney', 'monneiy', 'monnky', 'monfey', 'mocnney', 'monncey', 'monnefy', 'aonney', 'monyney', 'mlonney', 'mmnney', 'mobney', 'monnvy', 'qonney', 'sonney', 'monpey', 'monneyg', 'moneny', 'mokney', 'mojnney', 'mjnney', 'morney', 'motney', 'monnyey', 'monnee', 'monvney'}\n"
     ]
    }
   ],
   "source": [
    "print(len(set(edits_one(\"monney\"))))\n",
    "print(len(set(possible_corrections(\"emfasize\"))))\n",
    "\n",
    "print(edits_one(\"monney\"))"
   ]
  },
  {
   "cell_type": "code",
   "execution_count": 15,
   "metadata": {},
   "outputs": [
    {
     "name": "stdout",
     "output_type": "stream",
     "text": [
      "{'money'}\n"
     ]
    }
   ],
   "source": [
    "print(known(edits_one(\"monney\")))"
   ]
  },
  {
   "cell_type": "code",
   "execution_count": 16,
   "metadata": {},
   "outputs": [
    {
     "name": "stdout",
     "output_type": "stream",
     "text": [
      "51013\n",
      "{'money'}\n"
     ]
    }
   ],
   "source": [
    "# Let's look at words that are two edits away\n",
    "print(len(set(edits_two(\"monney\"))))\n",
    "print(known(edits_one(\"monney\")))"
   ]
  },
  {
   "cell_type": "code",
   "execution_count": 17,
   "metadata": {},
   "outputs": [
    {
     "name": "stdout",
     "output_type": "stream",
     "text": [
      "{'money'}\n"
     ]
    }
   ],
   "source": [
    "# Let's look at possible corrections of a word\n",
    "print(possible_corrections(\"monney\"))"
   ]
  },
  {
   "cell_type": "code",
   "execution_count": 18,
   "metadata": {},
   "outputs": [
    {
     "name": "stdout",
     "output_type": "stream",
     "text": [
      "0.00044745924074735216\n",
      "0.0\n"
     ]
    }
   ],
   "source": [
    "# Let's look at probability of a word\n",
    "print(prob(\"money\"))\n",
    "print(prob(\"monkey\"))"
   ]
  },
  {
   "cell_type": "code",
   "execution_count": 19,
   "metadata": {},
   "outputs": [],
   "source": [
    "def spell_check(word):\n",
    "    \"Print the most probable spelling correction for `word` out of all the `possible_corrections`\"\n",
    "    correct_word = max(possible_corrections(word), key=prob)\n",
    "    if correct_word != word:\n",
    "        return \"Did you mean \" + correct_word + \"?\"\n",
    "    else:\n",
    "        return \"Correct spelling.\""
   ]
  },
  {
   "cell_type": "code",
   "execution_count": 20,
   "metadata": {},
   "outputs": [
    {
     "name": "stdout",
     "output_type": "stream",
     "text": [
      "Did you mean money?\n"
     ]
    }
   ],
   "source": [
    "# test spell check\n",
    "print(spell_check(\"monney\"))"
   ]
  },
  {
   "cell_type": "code",
   "execution_count": null,
   "metadata": {},
   "outputs": [],
   "source": []
  }
 ],
 "metadata": {
  "kernelspec": {
   "display_name": "Python 3",
   "language": "python",
   "name": "python3"
  },
  "language_info": {
   "codemirror_mode": {
    "name": "ipython",
    "version": 3
   },
   "file_extension": ".py",
   "mimetype": "text/x-python",
   "name": "python",
   "nbconvert_exporter": "python",
   "pygments_lexer": "ipython3",
   "version": "3.8.2"
  }
 },
 "nbformat": 4,
 "nbformat_minor": 4
}
