{
 "cells": [
  {
   "cell_type": "code",
   "execution_count": 1,
   "id": "9305bbea-a2c6-4ccd-9355-938388373c71",
   "metadata": {},
   "outputs": [],
   "source": [
    "import pandas as pd\n",
    "import json"
   ]
  },
  {
   "cell_type": "code",
   "execution_count": 2,
   "id": "8b2c0f7d-3e0b-4ea8-8cd2-cd847550af5a",
   "metadata": {},
   "outputs": [],
   "source": [
    "education_dict = {\n",
    "    \"ثانوي أو أقل\" : 0,\n",
    "    \"دبلوم\": 1,\n",
    "    \"جامعي\": 2,\n",
    "    \"ماجستير\": 3,\n",
    "    \"دكتوراه\": 4\n",
    "}\n",
    "\n",
    "survey_response_dict = {\n",
    "    \"غير راضٍ على الاطلاق\": 0,\n",
    "    \"غير راضٍ\": 1,\n",
    "    \"محايد\": 2,\n",
    "    \"راضٍ\": 3,\n",
    "    \"راضٍ تماما\": 4,\n",
    "    \"لا أعلم\": None\n",
    "}\n",
    "\n",
    "age_dict = {\n",
    "    \"19 - 29\": 0,\n",
    "    \"30 -39\": 1,\n",
    "    \"40 - 49\": 2,\n",
    "    \"50 - 59\": 3,\n",
    "    \"60 أو أكبر\": 4\n",
    "}\n",
    "\n",
    "food_poisoning_dict = {\n",
    "    \"أقل من 3 أشهر\": 1,\n",
    "    \"من 3 الى 6 اشهر\": 2,\n",
    "    \"من 6 اشهر الى سنة\": 3,\n",
    "    \"أكثر من سنة\": 4,\n",
    "    0: 0\n",
    "}"
   ]
  },
  {
   "cell_type": "code",
   "execution_count": 3,
   "id": "1a13f41d-4231-4ca2-a6c2-0d3903374787",
   "metadata": {},
   "outputs": [],
   "source": [
    "df = pd.read_csv(\"Data.csv\")"
   ]
  },
  {
   "cell_type": "code",
   "execution_count": 4,
   "id": "5f539d4a-1210-4e27-8dfe-4188ecd44f3a",
   "metadata": {},
   "outputs": [],
   "source": [
    "cleaned_df = df[~df[\"المعرف ID للإرسال\"].isnull()]"
   ]
  },
  {
   "cell_type": "code",
   "execution_count": 5,
   "id": "8cd5dd85-8f55-4ff2-b580-c6b1b6e878e0",
   "metadata": {},
   "outputs": [
    {
     "name": "stderr",
     "output_type": "stream",
     "text": [
      "<ipython-input-5-6beebef7bff0>:1: SettingWithCopyWarning: \n",
      "A value is trying to be set on a copy of a slice from a DataFrame.\n",
      "Try using .loc[row_indexer,col_indexer] = value instead\n",
      "\n",
      "See the caveats in the documentation: https://pandas.pydata.org/pandas-docs/stable/user_guide/indexing.html#returning-a-view-versus-a-copy\n",
      "  cleaned_df[\"المستوى التعليمي\"] = cleaned_df[\"المستوى التعليمي\"].apply(lambda x: education_dict[x])\n"
     ]
    }
   ],
   "source": [
    "cleaned_df[\"المستوى التعليمي\"] = cleaned_df[\"المستوى التعليمي\"].apply(lambda x: education_dict[x])"
   ]
  },
  {
   "cell_type": "code",
   "execution_count": 6,
   "id": "9628c467-3bf2-4a58-9306-4a9d27b95b80",
   "metadata": {},
   "outputs": [
    {
     "name": "stderr",
     "output_type": "stream",
     "text": [
      "<ipython-input-6-6f41221486f2>:1: SettingWithCopyWarning: \n",
      "A value is trying to be set on a copy of a slice from a DataFrame.\n",
      "Try using .loc[row_indexer,col_indexer] = value instead\n",
      "\n",
      "See the caveats in the documentation: https://pandas.pydata.org/pandas-docs/stable/user_guide/indexing.html#returning-a-view-versus-a-copy\n",
      "  cleaned_df[\"الجنس\"] = cleaned_df[\"الجنس\"].apply(lambda x: 'M' if x == \"ذكر\" else 'F')\n",
      "<ipython-input-6-6f41221486f2>:2: SettingWithCopyWarning: \n",
      "A value is trying to be set on a copy of a slice from a DataFrame.\n",
      "Try using .loc[row_indexer,col_indexer] = value instead\n",
      "\n",
      "See the caveats in the documentation: https://pandas.pydata.org/pandas-docs/stable/user_guide/indexing.html#returning-a-view-versus-a-copy\n",
      "  cleaned_df[\"الجنسية\"] = cleaned_df[\"الجنسية\"].apply(lambda x: 'SA' if x == \"سعودي\" else 'NSA')\n",
      "<ipython-input-6-6f41221486f2>:3: SettingWithCopyWarning: \n",
      "A value is trying to be set on a copy of a slice from a DataFrame.\n",
      "Try using .loc[row_indexer,col_indexer] = value instead\n",
      "\n",
      "See the caveats in the documentation: https://pandas.pydata.org/pandas-docs/stable/user_guide/indexing.html#returning-a-view-versus-a-copy\n",
      "  cleaned_df[\"هل سبق و أن تعرضت الى حالة اشتباه تسمم غذائي\"] = cleaned_df[\"هل سبق و أن تعرضت الى حالة اشتباه تسمم غذائي\"].apply(lambda x: True if x == \"نعم\" else False)\n"
     ]
    }
   ],
   "source": [
    "cleaned_df[\"الجنس\"] = cleaned_df[\"الجنس\"].apply(lambda x: 'M' if x == \"ذكر\" else 'F')\n",
    "cleaned_df[\"الجنسية\"] = cleaned_df[\"الجنسية\"].apply(lambda x: 'SA' if x == \"سعودي\" else 'NSA')\n",
    "cleaned_df[\"هل سبق و أن تعرضت الى حالة اشتباه تسمم غذائي\"] = cleaned_df[\"هل سبق و أن تعرضت الى حالة اشتباه تسمم غذائي\"].apply(lambda x: True if x == \"نعم\" else False)"
   ]
  },
  {
   "cell_type": "code",
   "execution_count": 7,
   "id": "342b7079-da9c-428b-a06c-ff7e376453c5",
   "metadata": {},
   "outputs": [
    {
     "name": "stderr",
     "output_type": "stream",
     "text": [
      "<ipython-input-7-ddc672f64e46>:1: SettingWithCopyWarning: \n",
      "A value is trying to be set on a copy of a slice from a DataFrame.\n",
      "Try using .loc[row_indexer,col_indexer] = value instead\n",
      "\n",
      "See the caveats in the documentation: https://pandas.pydata.org/pandas-docs/stable/user_guide/indexing.html#returning-a-view-versus-a-copy\n",
      "  cleaned_df[\"فترة التعرض الى حالة الاشتباه بتسمم غذائي\"] = cleaned_df[\"فترة التعرض الى حالة الاشتباه بتسمم غذائي\"].fillna(0)\n"
     ]
    }
   ],
   "source": [
    "cleaned_df[\"فترة التعرض الى حالة الاشتباه بتسمم غذائي\"] = cleaned_df[\"فترة التعرض الى حالة الاشتباه بتسمم غذائي\"].fillna(0)"
   ]
  },
  {
   "cell_type": "code",
   "execution_count": 8,
   "id": "73573193-d4f8-445c-867d-52bea49c1930",
   "metadata": {},
   "outputs": [
    {
     "name": "stderr",
     "output_type": "stream",
     "text": [
      "<ipython-input-8-54e6eee8651c>:1: SettingWithCopyWarning: \n",
      "A value is trying to be set on a copy of a slice from a DataFrame.\n",
      "Try using .loc[row_indexer,col_indexer] = value instead\n",
      "\n",
      "See the caveats in the documentation: https://pandas.pydata.org/pandas-docs/stable/user_guide/indexing.html#returning-a-view-versus-a-copy\n",
      "  cleaned_df[\" ثقتك في سلامة مصادر اللحوم في المطاعم\"] = cleaned_df[\" ثقتك في سلامة مصادر اللحوم في المطاعم\"].apply(lambda x: survey_response_dict[x])\n",
      "<ipython-input-8-54e6eee8651c>:2: SettingWithCopyWarning: \n",
      "A value is trying to be set on a copy of a slice from a DataFrame.\n",
      "Try using .loc[row_indexer,col_indexer] = value instead\n",
      "\n",
      "See the caveats in the documentation: https://pandas.pydata.org/pandas-docs/stable/user_guide/indexing.html#returning-a-view-versus-a-copy\n",
      "  cleaned_df[\" صلاحية الزيوت المستخدمة للطهي\"] = cleaned_df[\" صلاحية الزيوت المستخدمة للطهي\"].apply(lambda x: survey_response_dict[x])\n",
      "<ipython-input-8-54e6eee8651c>:3: SettingWithCopyWarning: \n",
      "A value is trying to be set on a copy of a slice from a DataFrame.\n",
      "Try using .loc[row_indexer,col_indexer] = value instead\n",
      "\n",
      "See the caveats in the documentation: https://pandas.pydata.org/pandas-docs/stable/user_guide/indexing.html#returning-a-view-versus-a-copy\n",
      "  cleaned_df[\" الإفصاح عن مسببات الحساسية في قائمة وجبات الطعام (مثل الجلوتين, منتجات البيض)\"] = cleaned_df[\" الإفصاح عن مسببات الحساسية في قائمة وجبات الطعام (مثل الجلوتين, منتجات البيض)\"].apply(lambda x: survey_response_dict[x])\n",
      "<ipython-input-8-54e6eee8651c>:4: SettingWithCopyWarning: \n",
      "A value is trying to be set on a copy of a slice from a DataFrame.\n",
      "Try using .loc[row_indexer,col_indexer] = value instead\n",
      "\n",
      "See the caveats in the documentation: https://pandas.pydata.org/pandas-docs/stable/user_guide/indexing.html#returning-a-view-versus-a-copy\n",
      "  cleaned_df[\" نظافة المطاعم بشكل عام\"] = cleaned_df[\" نظافة المطاعم بشكل عام\"].apply(lambda x: survey_response_dict[x])\n",
      "<ipython-input-8-54e6eee8651c>:5: SettingWithCopyWarning: \n",
      "A value is trying to be set on a copy of a slice from a DataFrame.\n",
      "Try using .loc[row_indexer,col_indexer] = value instead\n",
      "\n",
      "See the caveats in the documentation: https://pandas.pydata.org/pandas-docs/stable/user_guide/indexing.html#returning-a-view-versus-a-copy\n",
      "  cleaned_df[\"فترة التعرض الى حالة الاشتباه بتسمم غذائي\"] = cleaned_df[\"فترة التعرض الى حالة الاشتباه بتسمم غذائي\"].apply(lambda x: food_poisoning_dict[x])\n",
      "<ipython-input-8-54e6eee8651c>:6: SettingWithCopyWarning: \n",
      "A value is trying to be set on a copy of a slice from a DataFrame.\n",
      "Try using .loc[row_indexer,col_indexer] = value instead\n",
      "\n",
      "See the caveats in the documentation: https://pandas.pydata.org/pandas-docs/stable/user_guide/indexing.html#returning-a-view-versus-a-copy\n",
      "  cleaned_df[\"الفئة العمرية\"] = cleaned_df[\"الفئة العمرية\"].apply(lambda x: age_dict[x])\n"
     ]
    }
   ],
   "source": [
    "cleaned_df[\" ثقتك في سلامة مصادر اللحوم في المطاعم\"] = cleaned_df[\" ثقتك في سلامة مصادر اللحوم في المطاعم\"].apply(lambda x: survey_response_dict[x])\n",
    "cleaned_df[\" صلاحية الزيوت المستخدمة للطهي\"] = cleaned_df[\" صلاحية الزيوت المستخدمة للطهي\"].apply(lambda x: survey_response_dict[x])\n",
    "cleaned_df[\" الإفصاح عن مسببات الحساسية في قائمة وجبات الطعام (مثل الجلوتين, منتجات البيض)\"] = cleaned_df[\" الإفصاح عن مسببات الحساسية في قائمة وجبات الطعام (مثل الجلوتين, منتجات البيض)\"].apply(lambda x: survey_response_dict[x])\n",
    "cleaned_df[\" نظافة المطاعم بشكل عام\"] = cleaned_df[\" نظافة المطاعم بشكل عام\"].apply(lambda x: survey_response_dict[x])\n",
    "cleaned_df[\"فترة التعرض الى حالة الاشتباه بتسمم غذائي\"] = cleaned_df[\"فترة التعرض الى حالة الاشتباه بتسمم غذائي\"].apply(lambda x: food_poisoning_dict[x])\n",
    "cleaned_df[\"الفئة العمرية\"] = cleaned_df[\"الفئة العمرية\"].apply(lambda x: age_dict[x])"
   ]
  },
  {
   "cell_type": "code",
   "execution_count": 9,
   "id": "32bfbf98-5330-4830-bda9-36365c296907",
   "metadata": {},
   "outputs": [],
   "source": [
    "missing_values_dict = json.loads(cleaned_df.groupby(\"الفئة العمرية\").mean()[[\" ثقتك في سلامة مصادر اللحوم في المطاعم\"\n",
    "                                            , \" صلاحية الزيوت المستخدمة للطهي\"\n",
    "                                            , \" الإفصاح عن مسببات الحساسية في قائمة وجبات الطعام (مثل الجلوتين, منتجات البيض)\"\n",
    "                                            , \" نظافة المطاعم بشكل عام\"]].to_json())"
   ]
  },
  {
   "cell_type": "code",
   "execution_count": 12,
   "id": "de32d230-1041-4c83-966e-4aa5e40591b1",
   "metadata": {},
   "outputs": [
    {
     "data": {
      "text/plain": [
       "{' ثقتك في سلامة مصادر اللحوم في المطاعم': {'0': 1.3333333333,\n",
       "  '1': 1.3670886076,\n",
       "  '2': 1.2641509434,\n",
       "  '3': 1.275862069,\n",
       "  '4': 1.2},\n",
       " ' صلاحية الزيوت المستخدمة للطهي': {'0': 2.0,\n",
       "  '1': 1.12,\n",
       "  '2': 1.0,\n",
       "  '3': 1.0384615385,\n",
       "  '4': 0.6},\n",
       " ' الإفصاح عن مسببات الحساسية في قائمة وجبات الطعام (مثل الجلوتين, منتجات البيض)': {'0': 2.0,\n",
       "  '1': 1.5641025641,\n",
       "  '2': 1.214953271,\n",
       "  '3': 1.3703703704,\n",
       "  '4': 1.3333333333},\n",
       " ' نظافة المطاعم بشكل عام': {'0': 2.0,\n",
       "  '1': 1.8072289157,\n",
       "  '2': 1.6785714286,\n",
       "  '3': 1.6896551724,\n",
       "  '4': 1.3333333333}}"
      ]
     },
     "execution_count": 12,
     "metadata": {},
     "output_type": "execute_result"
    }
   ],
   "source": [
    "missing_values_dict"
   ]
  },
  {
   "cell_type": "code",
   "execution_count": 21,
   "id": "2f0b6ee5-ada3-4e04-9968-73098f0ff6ad",
   "metadata": {},
   "outputs": [
    {
     "data": {
      "text/plain": [
       "1.12"
      ]
     },
     "execution_count": 21,
     "metadata": {},
     "output_type": "execute_result"
    }
   ],
   "source": [
    "missing_values_dict[\" صلاحية الزيوت المستخدمة للطهي\"]['1']"
   ]
  },
  {
   "cell_type": "code",
   "execution_count": 22,
   "id": "1f986a86-5a5c-45e4-a7de-2b2c83d032db",
   "metadata": {},
   "outputs": [],
   "source": [
    "def fix_missing_values(row):\n",
    "    if pd.isna(row[\" صلاحية الزيوت المستخدمة للطهي\"]):\n",
    "        row[\" صلاحية الزيوت المستخدمة للطهي\"] = round((missing_values_dict[\" صلاحية الزيوت المستخدمة للطهي\"][str(row[\"الفئة العمرية\"])]), 1)\n",
    "    \n",
    "    if pd.isna(row[\" ثقتك في سلامة مصادر اللحوم في المطاعم\"]):\n",
    "        row[\" ثقتك في سلامة مصادر اللحوم في المطاعم\"] = round((missing_values_dict[\" ثقتك في سلامة مصادر اللحوم في المطاعم\"][str(row[\"الفئة العمرية\"])]), 1)\n",
    "    \n",
    "    if pd.isna(row[\" الإفصاح عن مسببات الحساسية في قائمة وجبات الطعام (مثل الجلوتين, منتجات البيض)\"]):\n",
    "        row[\" الإفصاح عن مسببات الحساسية في قائمة وجبات الطعام (مثل الجلوتين, منتجات البيض)\"] = round((missing_values_dict[\" الإفصاح عن مسببات الحساسية في قائمة وجبات الطعام (مثل الجلوتين, منتجات البيض)\"][str(row[\"الفئة العمرية\"])]), 1)\n",
    "        \n",
    "    if pd.isna(row[\" نظافة المطاعم بشكل عام\"]):\n",
    "        row[\" نظافة المطاعم بشكل عام\"] = round((missing_values_dict[\" نظافة المطاعم بشكل عام\"][str(row[\"الفئة العمرية\"])]), 1)\n",
    "    return row"
   ]
  },
  {
   "cell_type": "code",
   "execution_count": 23,
   "id": "4572dc7f-6803-4757-91e9-13556a737016",
   "metadata": {},
   "outputs": [],
   "source": [
    "cleaned_df = cleaned_df.apply(fix_missing_values, axis=1)"
   ]
  },
  {
   "cell_type": "code",
   "execution_count": 24,
   "id": "a056e7a7-ddde-478d-9e39-c2b551180876",
   "metadata": {},
   "outputs": [
    {
     "data": {
      "text/html": [
       "<div>\n",
       "<style scoped>\n",
       "    .dataframe tbody tr th:only-of-type {\n",
       "        vertical-align: middle;\n",
       "    }\n",
       "\n",
       "    .dataframe tbody tr th {\n",
       "        vertical-align: top;\n",
       "    }\n",
       "\n",
       "    .dataframe thead th {\n",
       "        text-align: right;\n",
       "    }\n",
       "</style>\n",
       "<table border=\"1\" class=\"dataframe\">\n",
       "  <thead>\n",
       "    <tr style=\"text-align: right;\">\n",
       "      <th></th>\n",
       "      <th>Serial number</th>\n",
       "      <th>المعرف ID للإرسال</th>\n",
       "      <th>الجنس</th>\n",
       "      <th>الجنسية</th>\n",
       "      <th>الفئة العمرية</th>\n",
       "      <th>المستوى التعليمي</th>\n",
       "      <th>هل سبق و أن تعرضت الى حالة اشتباه تسمم غذائي</th>\n",
       "      <th>فترة التعرض الى حالة الاشتباه بتسمم غذائي</th>\n",
       "      <th>ثقتك في سلامة مصادر اللحوم في المطاعم</th>\n",
       "      <th>صلاحية الزيوت المستخدمة للطهي</th>\n",
       "      <th>الإفصاح عن مسببات الحساسية في قائمة وجبات الطعام (مثل الجلوتين, منتجات البيض)</th>\n",
       "      <th>نظافة المطاعم بشكل عام</th>\n",
       "    </tr>\n",
       "  </thead>\n",
       "  <tbody>\n",
       "    <tr>\n",
       "      <th>0</th>\n",
       "      <td>3032</td>\n",
       "      <td>297890.0</td>\n",
       "      <td>M</td>\n",
       "      <td>SA</td>\n",
       "      <td>4</td>\n",
       "      <td>1</td>\n",
       "      <td>False</td>\n",
       "      <td>0</td>\n",
       "      <td>2.0</td>\n",
       "      <td>2.0</td>\n",
       "      <td>1.3</td>\n",
       "      <td>2.0</td>\n",
       "    </tr>\n",
       "    <tr>\n",
       "      <th>1</th>\n",
       "      <td>3033</td>\n",
       "      <td>298112.0</td>\n",
       "      <td>F</td>\n",
       "      <td>SA</td>\n",
       "      <td>2</td>\n",
       "      <td>2</td>\n",
       "      <td>False</td>\n",
       "      <td>0</td>\n",
       "      <td>3.0</td>\n",
       "      <td>1.0</td>\n",
       "      <td>1.0</td>\n",
       "      <td>1.7</td>\n",
       "    </tr>\n",
       "    <tr>\n",
       "      <th>2</th>\n",
       "      <td>3034</td>\n",
       "      <td>298146.0</td>\n",
       "      <td>M</td>\n",
       "      <td>SA</td>\n",
       "      <td>1</td>\n",
       "      <td>3</td>\n",
       "      <td>False</td>\n",
       "      <td>0</td>\n",
       "      <td>1.0</td>\n",
       "      <td>2.0</td>\n",
       "      <td>0.0</td>\n",
       "      <td>1.0</td>\n",
       "    </tr>\n",
       "    <tr>\n",
       "      <th>3</th>\n",
       "      <td>3035</td>\n",
       "      <td>298418.0</td>\n",
       "      <td>M</td>\n",
       "      <td>SA</td>\n",
       "      <td>1</td>\n",
       "      <td>0</td>\n",
       "      <td>True</td>\n",
       "      <td>2</td>\n",
       "      <td>0.0</td>\n",
       "      <td>0.0</td>\n",
       "      <td>3.0</td>\n",
       "      <td>0.0</td>\n",
       "    </tr>\n",
       "    <tr>\n",
       "      <th>4</th>\n",
       "      <td>3036</td>\n",
       "      <td>299037.0</td>\n",
       "      <td>M</td>\n",
       "      <td>SA</td>\n",
       "      <td>2</td>\n",
       "      <td>0</td>\n",
       "      <td>False</td>\n",
       "      <td>0</td>\n",
       "      <td>0.0</td>\n",
       "      <td>1.0</td>\n",
       "      <td>0.0</td>\n",
       "      <td>2.0</td>\n",
       "    </tr>\n",
       "  </tbody>\n",
       "</table>\n",
       "</div>"
      ],
      "text/plain": [
       "   Serial number  المعرف ID للإرسال الجنس الجنسية  الفئة العمرية  \\\n",
       "0           3032           297890.0     M      SA              4   \n",
       "1           3033           298112.0     F      SA              2   \n",
       "2           3034           298146.0     M      SA              1   \n",
       "3           3035           298418.0     M      SA              1   \n",
       "4           3036           299037.0     M      SA              2   \n",
       "\n",
       "   المستوى التعليمي  هل سبق و أن تعرضت الى حالة اشتباه تسمم غذائي  \\\n",
       "0                 1                                         False   \n",
       "1                 2                                         False   \n",
       "2                 3                                         False   \n",
       "3                 0                                          True   \n",
       "4                 0                                         False   \n",
       "\n",
       "   فترة التعرض الى حالة الاشتباه بتسمم غذائي  \\\n",
       "0                                          0   \n",
       "1                                          0   \n",
       "2                                          0   \n",
       "3                                          2   \n",
       "4                                          0   \n",
       "\n",
       "    ثقتك في سلامة مصادر اللحوم في المطاعم   صلاحية الزيوت المستخدمة للطهي  \\\n",
       "0                                     2.0                             2.0   \n",
       "1                                     3.0                             1.0   \n",
       "2                                     1.0                             2.0   \n",
       "3                                     0.0                             0.0   \n",
       "4                                     0.0                             1.0   \n",
       "\n",
       "    الإفصاح عن مسببات الحساسية في قائمة وجبات الطعام (مثل الجلوتين, منتجات البيض)  \\\n",
       "0                                                1.3                                \n",
       "1                                                1.0                                \n",
       "2                                                0.0                                \n",
       "3                                                3.0                                \n",
       "4                                                0.0                                \n",
       "\n",
       "    نظافة المطاعم بشكل عام  \n",
       "0                      2.0  \n",
       "1                      1.7  \n",
       "2                      1.0  \n",
       "3                      0.0  \n",
       "4                      2.0  "
      ]
     },
     "execution_count": 24,
     "metadata": {},
     "output_type": "execute_result"
    }
   ],
   "source": [
    "cleaned_df.head()"
   ]
  },
  {
   "cell_type": "code",
   "execution_count": 25,
   "id": "738566fb-eec2-4ac3-86e4-6cd771778e0c",
   "metadata": {},
   "outputs": [
    {
     "data": {
      "text/plain": [
       "Serial number                                                                     0\n",
       "المعرف ID للإرسال                                                                 0\n",
       "الجنس                                                                             0\n",
       "الجنسية                                                                           0\n",
       "الفئة العمرية                                                                     0\n",
       "المستوى التعليمي                                                                  0\n",
       "هل سبق و أن تعرضت الى حالة اشتباه تسمم غذائي                                      0\n",
       "فترة التعرض الى حالة الاشتباه بتسمم غذائي                                         0\n",
       " ثقتك في سلامة مصادر اللحوم في المطاعم                                            0\n",
       " صلاحية الزيوت المستخدمة للطهي                                                    0\n",
       " الإفصاح عن مسببات الحساسية في قائمة وجبات الطعام (مثل الجلوتين, منتجات البيض)    0\n",
       " نظافة المطاعم بشكل عام                                                           0\n",
       "dtype: int64"
      ]
     },
     "execution_count": 25,
     "metadata": {},
     "output_type": "execute_result"
    }
   ],
   "source": [
    "cleaned_df.isnull().sum()"
   ]
  },
  {
   "cell_type": "code",
   "execution_count": 27,
   "id": "d7fddf7f-f21a-4e03-a395-54a8c744c5c4",
   "metadata": {},
   "outputs": [],
   "source": [
    "cleaned_df.to_csv(\"cleaned_data.csv\", index=False)"
   ]
  },
  {
   "cell_type": "code",
   "execution_count": null,
   "id": "788811d7-ab14-42e8-a22c-34a3e9d9fded",
   "metadata": {},
   "outputs": [],
   "source": []
  }
 ],
 "metadata": {
  "kernelspec": {
   "display_name": "Python 3",
   "language": "python",
   "name": "python3"
  },
  "language_info": {
   "codemirror_mode": {
    "name": "ipython",
    "version": 3
   },
   "file_extension": ".py",
   "mimetype": "text/x-python",
   "name": "python",
   "nbconvert_exporter": "python",
   "pygments_lexer": "ipython3",
   "version": "3.8.2"
  }
 },
 "nbformat": 4,
 "nbformat_minor": 5
}
